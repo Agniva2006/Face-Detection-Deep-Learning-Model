{
  "cells": [
    {
      "cell_type": "markdown",
      "id": "96a17750",
      "metadata": {
        "id": "96a17750"
      },
      "source": [
        "## Gender Classification Project"
      ]
    },
    {
      "cell_type": "markdown",
      "source": [
        "## 1.google drive permision check"
      ],
      "metadata": {
        "id": "TvTYXAIXcL8U"
      },
      "id": "TvTYXAIXcL8U"
    },
    {
      "cell_type": "code",
      "source": [
        "from google.colab import drive\n",
        "drive.mount('/content/drive')"
      ],
      "metadata": {
        "colab": {
          "base_uri": "https://localhost:8080/"
        },
        "id": "fTlc1NVbB7Ig",
        "outputId": "99038650-55ba-46be-cf39-480fe9fa6326"
      },
      "id": "fTlc1NVbB7Ig",
      "execution_count": null,
      "outputs": [
        {
          "output_type": "stream",
          "name": "stdout",
          "text": [
            "Mounted at /content/drive\n"
          ]
        }
      ]
    },
    {
      "cell_type": "markdown",
      "source": [
        "## 2.Import zip file from drive"
      ],
      "metadata": {
        "id": "i7BoJfvNcdNk"
      },
      "id": "i7BoJfvNcdNk"
    },
    {
      "cell_type": "code",
      "source": [
        "import zipfile\n",
        "\n",
        "zip_path = \"/content/drive/MyDrive/Comys_Hackathon5.zip\"\n",
        "extract_path = \"/content/Comys_Hackathon5\"\n",
        "\n",
        "with zipfile.ZipFile(zip_path, 'r') as zip_ref:\n",
        "    zip_ref.extractall(extract_path)"
      ],
      "metadata": {
        "id": "SLP-H_G2B8-M"
      },
      "id": "SLP-H_G2B8-M",
      "execution_count": null,
      "outputs": []
    },
    {
      "cell_type": "markdown",
      "source": [
        "## 3.Import the libraries"
      ],
      "metadata": {
        "id": "JYr1TfOHcm0B"
      },
      "id": "JYr1TfOHcm0B"
    },
    {
      "cell_type": "code",
      "execution_count": null,
      "id": "9113949f",
      "metadata": {
        "id": "9113949f"
      },
      "outputs": [],
      "source": [
        "import os\n",
        "import torch\n",
        "import torch.nn as nn\n",
        "import torch.optim as optim\n",
        "from torchvision import transforms,models,datasets\n",
        "from torchvision.transforms import ToTensor, Normalize, Resize, Compose, RandomHorizontalFlip, ColorJitter\n",
        "from torch.utils.data import DataLoader\n",
        "from sklearn.metrics import classification_report\n",
        "import matplotlib.pyplot as plt"
      ]
    },
    {
      "cell_type": "markdown",
      "source": [
        "## 4.HyperParaMeters"
      ],
      "metadata": {
        "id": "IQ_NCf36csOB"
      },
      "id": "IQ_NCf36csOB"
    },
    {
      "cell_type": "code",
      "execution_count": null,
      "id": "135ae4f6",
      "metadata": {
        "id": "135ae4f6"
      },
      "outputs": [],
      "source": [
        "BATCH_SIZE = 32\n",
        "LR = 1e-4\n",
        "EPOCHS = 5\n",
        "IMAGE_SIZE = 224"
      ]
    },
    {
      "cell_type": "markdown",
      "id": "d435fcbb",
      "metadata": {
        "id": "d435fcbb"
      },
      "source": [
        "## 5.Data Transforms"
      ]
    },
    {
      "cell_type": "code",
      "execution_count": null,
      "id": "3fcf53a8",
      "metadata": {
        "id": "3fcf53a8"
      },
      "outputs": [],
      "source": [
        "train_transform=transforms.Compose([\n",
        "    transforms.Resize((IMAGE_SIZE,IMAGE_SIZE)),\n",
        "    transforms.RandomHorizontalFlip(),\n",
        "    transforms.ColorJitter(brightness=0.2,contrast=0.2),\n",
        "    transforms.ToTensor(),\n",
        "    transforms.Normalize(mean=[0.5, 0.5, 0.5], std=[0.5, 0.5, 0.5])\n",
        "])\n",
        "\n",
        "val_transform=transforms.Compose([\n",
        "    transforms.Resize((IMAGE_SIZE,IMAGE_SIZE)),\n",
        "    transforms.ToTensor(),\n",
        "    transforms.Normalize(mean=[0.5, 0.5, 0.5], std=[0.5, 0.5, 0.5])\n",
        "])"
      ]
    },
    {
      "cell_type": "markdown",
      "source": [
        "##6. Find The Directories Of Train and Validation Datasets"
      ],
      "metadata": {
        "id": "NSfahbCCc7Ho"
      },
      "id": "NSfahbCCc7Ho"
    },
    {
      "cell_type": "code",
      "source": [
        "!find /content/Comys_Hackathon5/ -name \"train\"\n",
        "!find /content/Comys_Hackathon5/ -name \"val\""
      ],
      "metadata": {
        "colab": {
          "base_uri": "https://localhost:8080/"
        },
        "id": "xqseIzQkC5pM",
        "outputId": "e29427e8-9057-4901-db94-e89a4ed8cf32"
      },
      "id": "xqseIzQkC5pM",
      "execution_count": null,
      "outputs": [
        {
          "output_type": "stream",
          "name": "stdout",
          "text": [
            "/content/Comys_Hackathon5/Comys_Hackathon5/Task_A/train\n",
            "/content/Comys_Hackathon5/Comys_Hackathon5/Task_B/train\n",
            "/content/Comys_Hackathon5/Comys_Hackathon5/Task_A/val\n",
            "/content/Comys_Hackathon5/Comys_Hackathon5/Task_B/val\n"
          ]
        }
      ]
    },
    {
      "cell_type": "markdown",
      "id": "fb95802b",
      "metadata": {
        "id": "fb95802b"
      },
      "source": [
        "## 7.breakdown into train and test datasets"
      ]
    },
    {
      "cell_type": "code",
      "source": [
        "train_dataset = datasets.ImageFolder(\"/content/Comys_Hackathon5/Comys_Hackathon5/Task_A/train\", transform=train_transform)\n",
        "val_dataset = datasets.ImageFolder(\"/content/Comys_Hackathon5/Comys_Hackathon5/Task_A/val\", transform=val_transform)"
      ],
      "metadata": {
        "id": "U-CMotTsCHzy"
      },
      "id": "U-CMotTsCHzy",
      "execution_count": null,
      "outputs": []
    },
    {
      "cell_type": "markdown",
      "source": [
        "## 8. length of training dataset"
      ],
      "metadata": {
        "id": "UCZjSwTXdaLj"
      },
      "id": "UCZjSwTXdaLj"
    },
    {
      "cell_type": "code",
      "source": [
        "len(train_dataset)"
      ],
      "metadata": {
        "colab": {
          "base_uri": "https://localhost:8080/"
        },
        "id": "Pt4mMQkaKwgX",
        "outputId": "3ea34f80-f65c-4a1e-8593-47af28cdae1c"
      },
      "id": "Pt4mMQkaKwgX",
      "execution_count": null,
      "outputs": [
        {
          "output_type": "execute_result",
          "data": {
            "text/plain": [
              "1926"
            ]
          },
          "metadata": {},
          "execution_count": 8
        }
      ]
    },
    {
      "cell_type": "markdown",
      "source": [
        "## 9. assigned male as 1 and female as 0"
      ],
      "metadata": {
        "id": "ONB2OBRqdhxP"
      },
      "id": "ONB2OBRqdhxP"
    },
    {
      "cell_type": "code",
      "source": [
        "from collections import Counter\n",
        "\n",
        "targets = [label for _, label in train_dataset]\n",
        "class_counts = Counter(targets)\n",
        "\n",
        "print(class_counts)\n"
      ],
      "metadata": {
        "colab": {
          "base_uri": "https://localhost:8080/"
        },
        "id": "7cLQL3XCOjNg",
        "outputId": "aa62908b-7142-4d6d-9ce3-0aa6d8ff0e66"
      },
      "id": "7cLQL3XCOjNg",
      "execution_count": null,
      "outputs": [
        {
          "output_type": "stream",
          "name": "stdout",
          "text": [
            "Counter({1: 1623, 0: 303})\n"
          ]
        }
      ]
    },
    {
      "cell_type": "markdown",
      "source": [
        "## 10. Create Weights For each Sample"
      ],
      "metadata": {
        "id": "-E4D_YZWdrmn"
      },
      "id": "-E4D_YZWdrmn"
    },
    {
      "cell_type": "code",
      "source": [
        "import numpy as np\n",
        "from torch.utils.data import WeightedRandomSampler\n",
        "\n",
        "class_sample_counts = [class_counts[0], class_counts[1]]\n",
        "weights = 1. / np.array(class_sample_counts)\n",
        "\n",
        "sample_weights = [weights[label] for label in targets]\n"
      ],
      "metadata": {
        "id": "BWdOh7S-OkX1"
      },
      "id": "BWdOh7S-OkX1",
      "execution_count": null,
      "outputs": []
    },
    {
      "cell_type": "markdown",
      "source": [
        "## 11.initialize the weightRandomSampler"
      ],
      "metadata": {
        "id": "MR3CmxdKegG7"
      },
      "id": "MR3CmxdKegG7"
    },
    {
      "cell_type": "code",
      "source": [
        "sampler = WeightedRandomSampler(\n",
        "    weights=sample_weights,\n",
        "    num_samples=len(sample_weights),\n",
        "    replacement=True\n",
        ")\n"
      ],
      "metadata": {
        "id": "9m02UO4dOmds"
      },
      "id": "9m02UO4dOmds",
      "execution_count": null,
      "outputs": []
    },
    {
      "cell_type": "markdown",
      "source": [
        "## 12. load the DataLoader"
      ],
      "metadata": {
        "id": "4i1qDsP5eifl"
      },
      "id": "4i1qDsP5eifl"
    },
    {
      "cell_type": "code",
      "execution_count": null,
      "id": "ffc9dc87",
      "metadata": {
        "id": "ffc9dc87"
      },
      "outputs": [],
      "source": [
        "train_loader = DataLoader(train_dataset, batch_size=BATCH_SIZE, sampler=sampler,num_workers=2)\n",
        "val_loader = DataLoader(val_dataset, batch_size=BATCH_SIZE, shuffle=False)"
      ]
    },
    {
      "cell_type": "markdown",
      "source": [
        "## 13. use the gpu"
      ],
      "metadata": {
        "id": "x-8M1DEhen2O"
      },
      "id": "x-8M1DEhen2O"
    },
    {
      "cell_type": "code",
      "execution_count": null,
      "id": "90be7f1e",
      "metadata": {
        "id": "90be7f1e",
        "colab": {
          "base_uri": "https://localhost:8080/"
        },
        "outputId": "9a6e10e2-1a9e-4397-a2d4-38a8abd2b82f"
      },
      "outputs": [
        {
          "output_type": "stream",
          "name": "stdout",
          "text": [
            "Using device: cuda\n"
          ]
        }
      ],
      "source": [
        "device = torch.device(\"cuda\" if torch.cuda.is_available() else \"cpu\")\n",
        "print(f\"Using device: {device}\")"
      ]
    },
    {
      "cell_type": "markdown",
      "source": [
        "## 14. use of pretrained Model (RESNET18)"
      ],
      "metadata": {
        "id": "9zmjueIqexcI"
      },
      "id": "9zmjueIqexcI"
    },
    {
      "cell_type": "code",
      "execution_count": null,
      "id": "86d30a6e",
      "metadata": {
        "id": "86d30a6e",
        "colab": {
          "base_uri": "https://localhost:8080/"
        },
        "outputId": "2f7f5b2c-e29d-4a81-c717-143aa068d701"
      },
      "outputs": [
        {
          "output_type": "stream",
          "name": "stderr",
          "text": [
            "/usr/local/lib/python3.11/dist-packages/torchvision/models/_utils.py:208: UserWarning: The parameter 'pretrained' is deprecated since 0.13 and may be removed in the future, please use 'weights' instead.\n",
            "  warnings.warn(\n",
            "/usr/local/lib/python3.11/dist-packages/torchvision/models/_utils.py:223: UserWarning: Arguments other than a weight enum or `None` for 'weights' are deprecated since 0.13 and may be removed in the future. The current behavior is equivalent to passing `weights=ResNet18_Weights.IMAGENET1K_V1`. You can also use `weights=ResNet18_Weights.DEFAULT` to get the most up-to-date weights.\n",
            "  warnings.warn(msg)\n",
            "Downloading: \"https://download.pytorch.org/models/resnet18-f37072fd.pth\" to /root/.cache/torch/hub/checkpoints/resnet18-f37072fd.pth\n",
            "100%|██████████| 44.7M/44.7M [00:00<00:00, 148MB/s]\n"
          ]
        },
        {
          "output_type": "execute_result",
          "data": {
            "text/plain": [
              "ResNet(\n",
              "  (conv1): Conv2d(3, 64, kernel_size=(7, 7), stride=(2, 2), padding=(3, 3), bias=False)\n",
              "  (bn1): BatchNorm2d(64, eps=1e-05, momentum=0.1, affine=True, track_running_stats=True)\n",
              "  (relu): ReLU(inplace=True)\n",
              "  (maxpool): MaxPool2d(kernel_size=3, stride=2, padding=1, dilation=1, ceil_mode=False)\n",
              "  (layer1): Sequential(\n",
              "    (0): BasicBlock(\n",
              "      (conv1): Conv2d(64, 64, kernel_size=(3, 3), stride=(1, 1), padding=(1, 1), bias=False)\n",
              "      (bn1): BatchNorm2d(64, eps=1e-05, momentum=0.1, affine=True, track_running_stats=True)\n",
              "      (relu): ReLU(inplace=True)\n",
              "      (conv2): Conv2d(64, 64, kernel_size=(3, 3), stride=(1, 1), padding=(1, 1), bias=False)\n",
              "      (bn2): BatchNorm2d(64, eps=1e-05, momentum=0.1, affine=True, track_running_stats=True)\n",
              "    )\n",
              "    (1): BasicBlock(\n",
              "      (conv1): Conv2d(64, 64, kernel_size=(3, 3), stride=(1, 1), padding=(1, 1), bias=False)\n",
              "      (bn1): BatchNorm2d(64, eps=1e-05, momentum=0.1, affine=True, track_running_stats=True)\n",
              "      (relu): ReLU(inplace=True)\n",
              "      (conv2): Conv2d(64, 64, kernel_size=(3, 3), stride=(1, 1), padding=(1, 1), bias=False)\n",
              "      (bn2): BatchNorm2d(64, eps=1e-05, momentum=0.1, affine=True, track_running_stats=True)\n",
              "    )\n",
              "  )\n",
              "  (layer2): Sequential(\n",
              "    (0): BasicBlock(\n",
              "      (conv1): Conv2d(64, 128, kernel_size=(3, 3), stride=(2, 2), padding=(1, 1), bias=False)\n",
              "      (bn1): BatchNorm2d(128, eps=1e-05, momentum=0.1, affine=True, track_running_stats=True)\n",
              "      (relu): ReLU(inplace=True)\n",
              "      (conv2): Conv2d(128, 128, kernel_size=(3, 3), stride=(1, 1), padding=(1, 1), bias=False)\n",
              "      (bn2): BatchNorm2d(128, eps=1e-05, momentum=0.1, affine=True, track_running_stats=True)\n",
              "      (downsample): Sequential(\n",
              "        (0): Conv2d(64, 128, kernel_size=(1, 1), stride=(2, 2), bias=False)\n",
              "        (1): BatchNorm2d(128, eps=1e-05, momentum=0.1, affine=True, track_running_stats=True)\n",
              "      )\n",
              "    )\n",
              "    (1): BasicBlock(\n",
              "      (conv1): Conv2d(128, 128, kernel_size=(3, 3), stride=(1, 1), padding=(1, 1), bias=False)\n",
              "      (bn1): BatchNorm2d(128, eps=1e-05, momentum=0.1, affine=True, track_running_stats=True)\n",
              "      (relu): ReLU(inplace=True)\n",
              "      (conv2): Conv2d(128, 128, kernel_size=(3, 3), stride=(1, 1), padding=(1, 1), bias=False)\n",
              "      (bn2): BatchNorm2d(128, eps=1e-05, momentum=0.1, affine=True, track_running_stats=True)\n",
              "    )\n",
              "  )\n",
              "  (layer3): Sequential(\n",
              "    (0): BasicBlock(\n",
              "      (conv1): Conv2d(128, 256, kernel_size=(3, 3), stride=(2, 2), padding=(1, 1), bias=False)\n",
              "      (bn1): BatchNorm2d(256, eps=1e-05, momentum=0.1, affine=True, track_running_stats=True)\n",
              "      (relu): ReLU(inplace=True)\n",
              "      (conv2): Conv2d(256, 256, kernel_size=(3, 3), stride=(1, 1), padding=(1, 1), bias=False)\n",
              "      (bn2): BatchNorm2d(256, eps=1e-05, momentum=0.1, affine=True, track_running_stats=True)\n",
              "      (downsample): Sequential(\n",
              "        (0): Conv2d(128, 256, kernel_size=(1, 1), stride=(2, 2), bias=False)\n",
              "        (1): BatchNorm2d(256, eps=1e-05, momentum=0.1, affine=True, track_running_stats=True)\n",
              "      )\n",
              "    )\n",
              "    (1): BasicBlock(\n",
              "      (conv1): Conv2d(256, 256, kernel_size=(3, 3), stride=(1, 1), padding=(1, 1), bias=False)\n",
              "      (bn1): BatchNorm2d(256, eps=1e-05, momentum=0.1, affine=True, track_running_stats=True)\n",
              "      (relu): ReLU(inplace=True)\n",
              "      (conv2): Conv2d(256, 256, kernel_size=(3, 3), stride=(1, 1), padding=(1, 1), bias=False)\n",
              "      (bn2): BatchNorm2d(256, eps=1e-05, momentum=0.1, affine=True, track_running_stats=True)\n",
              "    )\n",
              "  )\n",
              "  (layer4): Sequential(\n",
              "    (0): BasicBlock(\n",
              "      (conv1): Conv2d(256, 512, kernel_size=(3, 3), stride=(2, 2), padding=(1, 1), bias=False)\n",
              "      (bn1): BatchNorm2d(512, eps=1e-05, momentum=0.1, affine=True, track_running_stats=True)\n",
              "      (relu): ReLU(inplace=True)\n",
              "      (conv2): Conv2d(512, 512, kernel_size=(3, 3), stride=(1, 1), padding=(1, 1), bias=False)\n",
              "      (bn2): BatchNorm2d(512, eps=1e-05, momentum=0.1, affine=True, track_running_stats=True)\n",
              "      (downsample): Sequential(\n",
              "        (0): Conv2d(256, 512, kernel_size=(1, 1), stride=(2, 2), bias=False)\n",
              "        (1): BatchNorm2d(512, eps=1e-05, momentum=0.1, affine=True, track_running_stats=True)\n",
              "      )\n",
              "    )\n",
              "    (1): BasicBlock(\n",
              "      (conv1): Conv2d(512, 512, kernel_size=(3, 3), stride=(1, 1), padding=(1, 1), bias=False)\n",
              "      (bn1): BatchNorm2d(512, eps=1e-05, momentum=0.1, affine=True, track_running_stats=True)\n",
              "      (relu): ReLU(inplace=True)\n",
              "      (conv2): Conv2d(512, 512, kernel_size=(3, 3), stride=(1, 1), padding=(1, 1), bias=False)\n",
              "      (bn2): BatchNorm2d(512, eps=1e-05, momentum=0.1, affine=True, track_running_stats=True)\n",
              "    )\n",
              "  )\n",
              "  (avgpool): AdaptiveAvgPool2d(output_size=(1, 1))\n",
              "  (fc): Linear(in_features=512, out_features=2, bias=True)\n",
              ")"
            ]
          },
          "metadata": {},
          "execution_count": 14
        }
      ],
      "source": [
        "model = models.resnet18(pretrained=True)\n",
        "#dropout\n",
        "model.fc = nn.Sequential(\n",
        "    nn.Dropout(0.4),\n",
        "    nn.Linear(model.fc.in_features, 2)\n",
        ")\n",
        "\n",
        "model.to(device)"
      ]
    },
    {
      "cell_type": "markdown",
      "source": [
        "## 14. Optimizaor and criterion"
      ],
      "metadata": {
        "id": "jbHJiD6Ue7bJ"
      },
      "id": "jbHJiD6Ue7bJ"
    },
    {
      "cell_type": "code",
      "execution_count": null,
      "id": "2e41a505",
      "metadata": {
        "id": "2e41a505"
      },
      "outputs": [],
      "source": [
        "criterion = nn.CrossEntropyLoss()\n",
        "optimizer = optim.Adam(model.parameters(), lr=LR)"
      ]
    },
    {
      "cell_type": "markdown",
      "source": [
        "## 15 .Training the dataset"
      ],
      "metadata": {
        "id": "1pvzFXItfBtc"
      },
      "id": "1pvzFXItfBtc"
    },
    {
      "cell_type": "code",
      "source": [
        "train_losses, val_losses, train_accuracies, val_accuracies = [], [], [], []\n",
        "\n",
        "for epoch in range(EPOCHS):\n",
        "    # -------------------- Training --------------------\n",
        "    model.train()\n",
        "    train_loss, correct, total = 0.0, 0, 0\n",
        "\n",
        "    for images, labels in train_loader:\n",
        "        images, labels = images.to(device), labels.to(device)\n",
        "        outputs = model(images)\n",
        "        loss = criterion(outputs, labels)\n",
        "\n",
        "        optimizer.zero_grad()\n",
        "        loss.backward()\n",
        "        optimizer.step()\n",
        "\n",
        "        train_loss += loss.item() * images.size(0)\n",
        "        _, predicted = outputs.max(1)\n",
        "        correct += predicted.eq(labels).sum().item()\n",
        "        total += labels.size(0)\n",
        "\n",
        "    train_acc = 100 * correct / total\n",
        "    train_losses.append(train_loss / total)\n",
        "    train_accuracies.append(train_acc)\n",
        "\n",
        "    # -------------------- Validation --------------------\n",
        "    model.eval()\n",
        "    val_loss, correct, total = 0.0, 0, 0\n",
        "    all_preds, all_labels = [], []\n",
        "\n",
        "    with torch.no_grad():\n",
        "        for images, labels in val_loader:\n",
        "            images, labels = images.to(device), labels.to(device)\n",
        "            outputs = model(images)\n",
        "            loss = criterion(outputs, labels)\n",
        "\n",
        "            val_loss += loss.item() * images.size(0)\n",
        "            _, predicted = outputs.max(1)\n",
        "            correct += predicted.eq(labels).sum().item()\n",
        "            total += labels.size(0)\n",
        "\n",
        "            all_preds.extend(predicted.cpu().numpy())\n",
        "            all_labels.extend(labels.cpu().numpy())\n",
        "\n",
        "    val_acc = 100 * correct / total\n",
        "    val_losses.append(val_loss / total)\n",
        "    val_accuracies.append(val_acc)\n",
        "\n",
        "    # -------------------- Print Epoch Summary --------------------\n",
        "    print(f\"Epoch {epoch+1}/{EPOCHS}: \"\n",
        "          f\"Train Loss={train_losses[-1]:.4f}, Val Loss={val_losses[-1]:.4f}, \"\n",
        "          f\"Train Acc={train_acc:.2f}%, Val Acc={val_acc:.2f}%\")\n"
      ],
      "metadata": {
        "colab": {
          "base_uri": "https://localhost:8080/"
        },
        "id": "w3-ebx51W2eL",
        "outputId": "b559084a-b50d-494e-c0db-48754b335ac4"
      },
      "id": "w3-ebx51W2eL",
      "execution_count": null,
      "outputs": [
        {
          "output_type": "stream",
          "name": "stdout",
          "text": [
            "Epoch 1/10: Train Loss=0.0290, Val Loss=0.3439, Train Acc=99.17%, Val Acc=91.47%\n",
            "Epoch 2/10: Train Loss=0.0090, Val Loss=0.3869, Train Acc=99.64%, Val Acc=91.47%\n",
            "Epoch 3/10: Train Loss=0.0104, Val Loss=0.3794, Train Acc=99.74%, Val Acc=91.71%\n",
            "Epoch 4/10: Train Loss=0.0036, Val Loss=0.3573, Train Acc=99.95%, Val Acc=92.65%\n",
            "Epoch 5/10: Train Loss=0.0011, Val Loss=0.3745, Train Acc=100.00%, Val Acc=92.42%\n",
            "Epoch 6/10: Train Loss=0.0016, Val Loss=0.4732, Train Acc=100.00%, Val Acc=91.47%\n",
            "Epoch 7/10: Train Loss=0.0138, Val Loss=0.3664, Train Acc=99.64%, Val Acc=91.94%\n",
            "Epoch 8/10: Train Loss=0.0058, Val Loss=0.3507, Train Acc=99.84%, Val Acc=91.94%\n",
            "Epoch 9/10: Train Loss=0.0209, Val Loss=0.4119, Train Acc=99.22%, Val Acc=91.00%\n",
            "Epoch 10/10: Train Loss=0.0115, Val Loss=0.4281, Train Acc=99.53%, Val Acc=92.18%\n"
          ]
        }
      ]
    },
    {
      "cell_type": "markdown",
      "source": [
        "## 16.Classification Matrix"
      ],
      "metadata": {
        "id": "P6R2Pxqkfb2G"
      },
      "id": "P6R2Pxqkfb2G"
    },
    {
      "cell_type": "code",
      "source": [
        "print(\"Final Validation Metrics (Task A - Gender Classification):\")\n",
        "print(classification_report(all_labels, all_preds, target_names=train_dataset.classes))"
      ],
      "metadata": {
        "colab": {
          "base_uri": "https://localhost:8080/"
        },
        "id": "772ECbssGbKO",
        "outputId": "51aa7275-d4f9-43fb-9ae2-edba0e3b0e9c"
      },
      "id": "772ECbssGbKO",
      "execution_count": null,
      "outputs": [
        {
          "output_type": "stream",
          "name": "stdout",
          "text": [
            "Final Validation Metrics (Task A - Gender Classification):\n",
            "              precision    recall  f1-score   support\n",
            "\n",
            "      female       0.78      0.85      0.81        79\n",
            "        male       0.96      0.94      0.95       343\n",
            "\n",
            "    accuracy                           0.93       422\n",
            "   macro avg       0.87      0.90      0.88       422\n",
            "weighted avg       0.93      0.93      0.93       422\n",
            "\n"
          ]
        }
      ]
    },
    {
      "cell_type": "markdown",
      "source": [
        "## 17. Accuracy Matrices"
      ],
      "metadata": {
        "id": "8Uh0YO9PfUch"
      },
      "id": "8Uh0YO9PfUch"
    },
    {
      "cell_type": "code",
      "source": [
        "from sklearn.metrics import accuracy_score\n",
        "accuracy = accuracy_score(all_labels, all_preds)\n",
        "print(f\"Accuracy: {accuracy * 100:.2f}%\")## VAlidation Accuracy"
      ],
      "metadata": {
        "colab": {
          "base_uri": "https://localhost:8080/"
        },
        "id": "s05VgPFabHcp",
        "outputId": "53b1aa6d-c96d-4311-c766-8d6ae5e07e6e"
      },
      "id": "s05VgPFabHcp",
      "execution_count": null,
      "outputs": [
        {
          "output_type": "stream",
          "name": "stdout",
          "text": [
            "Accuracy: 92.18%\n"
          ]
        }
      ]
    }
  ],
  "metadata": {
    "kernelspec": {
      "display_name": "Python 3",
      "name": "python3"
    },
    "language_info": {
      "codemirror_mode": {
        "name": "ipython",
        "version": 3
      },
      "file_extension": ".py",
      "mimetype": "text/x-python",
      "name": "python",
      "nbconvert_exporter": "python",
      "pygments_lexer": "ipython3",
      "version": "3.11.8"
    },
    "colab": {
      "provenance": [],
      "gpuType": "T4"
    },
    "accelerator": "GPU"
  },
  "nbformat": 4,
  "nbformat_minor": 5
}